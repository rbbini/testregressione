{
 "cells": [
  {
   "cell_type": "code",
   "execution_count": 52,
   "id": "fbd5ec61-e777-4e84-8bbe-7cc50dd99bae",
   "metadata": {},
   "outputs": [],
   "source": [
    "import pandas as pd \n",
    "import numpy as np\n",
    "import pickle\n",
    "import matplotlib.pyplot as plt \n",
    "import seaborn as sns\n",
    "import xgboost\n",
    "from sklearn.model_selection import GroupShuffleSplit\n",
    "from sklearn.preprocessing import StandardScaler\n",
    "from sklearn.linear_model import ElasticNet\n",
    "from sklearn.model_selection import cross_val_score\n",
    "from sklearn.model_selection import RepeatedKFold"
   ]
  },
  {
   "cell_type": "code",
   "execution_count": 53,
   "id": "f62a5e4e-ac74-4c90-9dc0-1c60243b4898",
   "metadata": {},
   "outputs": [],
   "source": [
    "data = pd.read_excel('/home/lorenzo/PhD/PROMS/data/data_reg_anca.xls')"
   ]
  },
  {
   "cell_type": "code",
   "execution_count": 54,
   "id": "449ad687-76eb-4d46-a734-a49eef37ca8a",
   "metadata": {},
   "outputs": [],
   "source": [
    "columns_preop = ['Uid', 'Sesso', 'Anni ricovero', 'Data operazione', 'Data dimissione',\n",
    "           'Nome evento', 'Nome equipe', 'Procedura intervento', 'HHS Function PreOp',\t\n",
    "           'HHS Total PreOp', 'VAS PAIN risp PreOp','SF12 PhysicalScore PreOp',\t\n",
    "           'SF12 MentalScore PreOp', 'HOOSPS Total PreOp', 'BMI altezza risp PreOp',\n",
    "           'BMI peso risp PreOp','BMI Total PreOp']\n",
    "columns_3mon = ['Uid', 'Sesso', 'Anni ricovero', 'Data operazione', 'Data dimissione',\n",
    "           'Nome evento', 'Nome equipe', 'Procedura intervento', 'HHS Function 3months',\t\n",
    "           'HHS Total 3months', 'VAS PAIN risp 3months','SF12 PhysicalScore 3months',\t\n",
    "           'SF12 MentalScore 3months', 'HOOSPS Total 3months', 'BMI altezza risp 3months',\n",
    "           'BMI peso risp 3months','BMI Total 3months']\n",
    "columns_6mon = ['Uid', 'Sesso', 'Anni ricovero', 'Data operazione', 'Data dimissione',\n",
    "           'Nome evento', 'Nome equipe', 'Procedura intervento', 'HHS Function 6months',\t\n",
    "           'HHS Total 6months', 'VAS PAIN risp 6months','SF12 PhysicalScore 6months',\t\n",
    "           'SF12 MentalScore 6months', 'HOOSPS Total 6months', 'BMI altezza risp 6months',\n",
    "           'BMI peso risp 6months','BMI Total 6months']"
   ]
  },
  {
   "cell_type": "code",
   "execution_count": 55,
   "id": "9b0108db-2a42-4a5b-b1ef-795eea1b8ff7",
   "metadata": {},
   "outputs": [],
   "source": [
    "data = data.replace('#null', np.nan)"
   ]
  },
  {
   "cell_type": "code",
   "execution_count": 56,
   "id": "9ff65ff2-7b14-401b-abe6-57a1e6535c50",
   "metadata": {},
   "outputs": [],
   "source": [
    "def from_obj_to_num(x):\n",
    "    try:\n",
    "        res = x.astype(float)\n",
    "    except ValueError: \n",
    "        res = x \n",
    "    return res "
   ]
  },
  {
   "cell_type": "code",
   "execution_count": 57,
   "id": "55c2349d-4d0b-4cd1-8636-a353bcdbfdcd",
   "metadata": {},
   "outputs": [],
   "source": [
    "data = data.apply(from_obj_to_num)"
   ]
  },
  {
   "cell_type": "code",
   "execution_count": 58,
   "id": "f9231641-5765-4eca-8905-e21d09bda037",
   "metadata": {},
   "outputs": [],
   "source": [
    "data = data[~data['SF12 MentalScore 6months'].isna()]\n",
    "data = data[~data['SF12 PhysicalScore 6months'].isna()]"
   ]
  },
  {
   "cell_type": "code",
   "execution_count": 59,
   "id": "b80c4e58-05fe-47dc-abbe-81b69aac9308",
   "metadata": {},
   "outputs": [],
   "source": [
    "#data = data[~data['VAS PAIN PREOP'].isna()]\n",
    "data = data[~data['SF12 MentalScore PreOp'].isna()]\n",
    "data = data[~data['SF12 PhysicalScore PreOp'].isna()]\n",
    "data = data[~data['HOOSPS Total PreOp'].isna()]\n",
    "data = data[~data['BMI altezza risp PreOp'].isna()]\n",
    "data = data[~data['BMI peso risp PreOp'].isna()]"
   ]
  },
  {
   "cell_type": "code",
   "execution_count": 60,
   "id": "7c7cff13-18e6-4939-b668-c22eb8de3abd",
   "metadata": {},
   "outputs": [],
   "source": [
    "data['Data operazione'] = data['Data operazione'].str.replace('\\s(00:00:00.0)','', regex = True)\n",
    "data['Data operazione'] = pd.to_datetime(data['Data operazione'])\n",
    "data['Data operazione'] = data['Data operazione'].dt.strftime('%Y/%m/%d')\n",
    "mask_date = data['Data operazione'] <= '2021/05/05'\n",
    "data_clean = data.loc[mask_date,:]"
   ]
  },
  {
   "cell_type": "code",
   "execution_count": 61,
   "id": "05749316-eca9-4a2e-90bb-e0f85d870a11",
   "metadata": {},
   "outputs": [],
   "source": [
    "data_preop = data_clean.loc[:, columns_preop]"
   ]
  },
  {
   "cell_type": "code",
   "execution_count": 62,
   "id": "d5e1af9e-02bd-455d-b089-2a7c0ee34960",
   "metadata": {},
   "outputs": [],
   "source": [
    "data_3month = pd.concat([data_clean[['Uid']], data_clean.filter(regex='3months', axis=1)], axis = 1)\n",
    "data_6month = pd.concat([data_clean[['Uid']], data_clean.filter(regex='6months', axis=1)], axis = 1)\n",
    "data_12month = pd.concat([data_clean[['Uid']], data_clean.filter(regex='12months', axis=1)], axis = 1)"
   ]
  },
  {
   "cell_type": "code",
   "execution_count": 63,
   "id": "b9a150bd-5392-4090-89eb-d4fb98ae29ca",
   "metadata": {},
   "outputs": [],
   "source": [
    "def preproces_nomeevento(data_preop):\n",
    "    data_preop['Nome evento'] = data_preop['Nome evento'].str.lower()#replace('\\s+', ' ').value_counts()\n",
    "    data_preop['Nome evento'] = data_preop['Nome evento'].str.replace('\\n', '', regex = True)\n",
    "    data_preop['Nome evento'] = data_preop['Nome evento'].str.replace(' +', ' ', regex = True)\n",
    "    data_preop['Nome evento'] = data_preop['Nome evento'].str.replace('([a-z]+)(protesi)', r'\\1 protesi',regex = True)\n",
    "    return data_preop['Nome evento']"
   ]
  },
  {
   "cell_type": "code",
   "execution_count": 64,
   "id": "84b48b53-8aea-49a0-a3ca-fddde5bb2a99",
   "metadata": {
    "tags": []
   },
   "outputs": [],
   "source": [
    "# lista_nome_evento = list(data_preop['Nome evento'].value_counts()[:5].index)\n",
    "# with open('lista_nome_evento.pkl', 'wb') as f:\n",
    "#     pickle.dump(lista_nome_evento, f)"
   ]
  },
  {
   "cell_type": "code",
   "execution_count": 65,
   "id": "ab0ebed9-0951-493d-b772-6844bfcd4612",
   "metadata": {},
   "outputs": [],
   "source": [
    "with open('lista_nome_evento.pkl', 'rb') as f:\n",
    "    lista_nome_evento = pickle.load(f)"
   ]
  },
  {
   "cell_type": "code",
   "execution_count": 66,
   "id": "f40dae69-f0a9-410d-a05d-2617b0166ade",
   "metadata": {},
   "outputs": [],
   "source": [
    "def normalize_nomevento(x):\n",
    "    if x in lista_nome_evento:\n",
    "        nome_evento = x\n",
    "    else:\n",
    "        nome_evento = np.nan\n",
    "    return nome_evento"
   ]
  },
  {
   "cell_type": "code",
   "execution_count": 67,
   "id": "18f23afc-9ad3-4c96-9bd3-fdabdd051bc3",
   "metadata": {},
   "outputs": [],
   "source": [
    "data_preop['Nome evento'] = preproces_nomeevento(data_preop)"
   ]
  },
  {
   "cell_type": "code",
   "execution_count": 68,
   "id": "a4cab7be-16cd-4b38-a360-ddbdf9f6cb41",
   "metadata": {},
   "outputs": [],
   "source": [
    "data_preop['Nome evento'] = data_preop['Nome evento'].apply(normalize_nomevento)"
   ]
  },
  {
   "cell_type": "markdown",
   "id": "3ba3bd9f-0fe6-417e-aeac-a770370881d6",
   "metadata": {},
   "source": [
    "##### Binnarizzare Nome evento, Sesso, Nome equipe, (per ora eliminiamo procedura intervento)"
   ]
  },
  {
   "cell_type": "code",
   "execution_count": 69,
   "id": "35757b03-c0aa-4882-9391-dc3583634a6e",
   "metadata": {},
   "outputs": [],
   "source": [
    "data_preop['Procedura intervento'] = data_preop['Procedura intervento'].str.lower()"
   ]
  },
  {
   "cell_type": "code",
   "execution_count": 70,
   "id": "2cdb330a-f6b2-482d-a1f8-3bba719f37c2",
   "metadata": {},
   "outputs": [],
   "source": [
    "data_preop['Procedura intervento'] = data_preop['Procedura intervento'].str.replace('sx', 'sinistra')\n",
    "data_preop['Procedura intervento'] = data_preop['Procedura intervento'].str.replace('dx', 'destra')"
   ]
  },
  {
   "cell_type": "markdown",
   "id": "c9523781-6990-40f8-84c4-9b1846a47955",
   "metadata": {},
   "source": [
    "###### Procedura intervento --- embeddings"
   ]
  },
  {
   "cell_type": "code",
   "execution_count": 71,
   "id": "3e958ff6-c848-4fe2-944f-0f7b9b6216e9",
   "metadata": {},
   "outputs": [],
   "source": [
    "data_preop['Nome equipe'] = data_preop['Nome equipe'].str.lower().str.replace(' +', ' ',regex = True)"
   ]
  },
  {
   "cell_type": "code",
   "execution_count": 72,
   "id": "73c1b3f2-c3c0-4984-be9a-d0af55ac5d1a",
   "metadata": {},
   "outputs": [],
   "source": [
    "data_preop = data_preop[data_preop['Nome equipe'] != 'chirurgia del ginocchio i']"
   ]
  },
  {
   "cell_type": "code",
   "execution_count": 73,
   "id": "0545958a-4854-4f8f-836c-5933f9957ff0",
   "metadata": {},
   "outputs": [],
   "source": [
    "data_preop.Sesso = pd.get_dummies(data_preop.Sesso, drop_first= True) #0 F 1 M"
   ]
  },
  {
   "cell_type": "code",
   "execution_count": 74,
   "id": "442d8549-3e4a-4047-aacf-fe8d7cf60ef8",
   "metadata": {},
   "outputs": [],
   "source": [
    "data_preop = pd.concat([data_preop.drop(['Nome evento'], axis = 1), pd.get_dummies(data_preop['Nome evento'])], axis = 1)"
   ]
  },
  {
   "cell_type": "code",
   "execution_count": 75,
   "id": "bd05a3c0-4fcd-402d-bad4-985918a357bf",
   "metadata": {},
   "outputs": [],
   "source": [
    "data_preop = pd.concat([data_preop.drop(['Nome equipe'], axis = 1), pd.get_dummies(data_preop['Nome equipe'])], axis = 1)"
   ]
  },
  {
   "cell_type": "markdown",
   "id": "0ffb64b6-3633-4f6c-96e4-915810f0f6ce",
   "metadata": {},
   "source": [
    "### Splitting dei dati "
   ]
  },
  {
   "cell_type": "code",
   "execution_count": 76,
   "id": "497a4cf7-b7b4-44a1-9a85-328e144b8cb3",
   "metadata": {},
   "outputs": [],
   "source": [
    "train_inds, test_inds = next(GroupShuffleSplit(test_size=.20, n_splits=2, random_state = 7).split(data_preop, groups=data_preop['Uid']))"
   ]
  },
  {
   "cell_type": "code",
   "execution_count": 77,
   "id": "64247d7c-455f-4a35-9db7-40723b78bc34",
   "metadata": {},
   "outputs": [],
   "source": [
    "train = data_preop.iloc[train_inds]\n",
    "test = data_preop.iloc[test_inds]"
   ]
  },
  {
   "cell_type": "code",
   "execution_count": 78,
   "id": "885ac71d-89d4-4124-a319-18c0e8b722f0",
   "metadata": {},
   "outputs": [],
   "source": [
    "columns_to_drop = ['Data operazione', 'Data dimissione', 'Procedura intervento', 'HHS Function PreOp', 'HHS Total PreOp']"
   ]
  },
  {
   "cell_type": "code",
   "execution_count": 79,
   "id": "ca66faeb-1fbe-4d29-8a5e-fbbf7175d039",
   "metadata": {},
   "outputs": [
    {
     "name": "stderr",
     "output_type": "stream",
     "text": [
      "/home/lorenzo/anaconda3/envs/research/lib/python3.8/site-packages/pandas/core/frame.py:4901: SettingWithCopyWarning: \n",
      "A value is trying to be set on a copy of a slice from a DataFrame\n",
      "\n",
      "See the caveats in the documentation: https://pandas.pydata.org/pandas-docs/stable/user_guide/indexing.html#returning-a-view-versus-a-copy\n",
      "  return super().drop(\n"
     ]
    }
   ],
   "source": [
    "train.drop(columns_to_drop, axis  = 1, inplace = True)\n",
    "test.drop(columns_to_drop, axis = 1, inplace = True)"
   ]
  },
  {
   "cell_type": "code",
   "execution_count": 80,
   "id": "4f9d0dbe-254c-4992-adba-163760af35cc",
   "metadata": {},
   "outputs": [],
   "source": [
    "y_train_physical = data_6month.iloc[train_inds]['SF12 PhysicalScore 6months'] \n",
    "y_test_physical = data_6month.iloc[test_inds]['SF12 PhysicalScore 6months'] "
   ]
  },
  {
   "cell_type": "code",
   "execution_count": 81,
   "id": "4ba52e10-90b5-4306-8bed-62842c240e89",
   "metadata": {},
   "outputs": [],
   "source": [
    "y_train_mental = data_6month.iloc[train_inds]['SF12 MentalScore 6months'] \n",
    "y_test_mental = data_6month.iloc[test_inds]['SF12 MentalScore 6months']"
   ]
  },
  {
   "cell_type": "markdown",
   "id": "71840d04-e5c1-49e3-8bdb-7570f152d2d8",
   "metadata": {},
   "source": [
    "### Fare test sulla distribuzione del sesso e per fasce di eta' "
   ]
  },
  {
   "cell_type": "code",
   "execution_count": 82,
   "id": "19eb9e64-e91a-4819-a817-7db835ce4697",
   "metadata": {},
   "outputs": [],
   "source": [
    "# dist_sesso = data_clean[['Sesso', 'SF12 MentalScore 6months']]"
   ]
  },
  {
   "cell_type": "code",
   "execution_count": 83,
   "id": "8a4b8dcd-4ac8-4d59-9624-37e8ba5a69b6",
   "metadata": {},
   "outputs": [],
   "source": [
    "# sns.displot(data = dist_sesso, x = 'SF12 MentalScore 6months', hue = 'Sesso')"
   ]
  },
  {
   "cell_type": "markdown",
   "id": "bf1d35f1-118b-4c4e-bb01-dafe95b307b2",
   "metadata": {},
   "source": [
    "### training sul mental score"
   ]
  },
  {
   "cell_type": "code",
   "execution_count": 84,
   "id": "9e7eece8-a02f-444d-87bf-d434c1bb4f4d",
   "metadata": {},
   "outputs": [],
   "source": [
    "X_train = train.drop('Uid', axis = 1).values\n",
    "X_test = test.drop('Uid', axis = 1).values"
   ]
  },
  {
   "cell_type": "code",
   "execution_count": 85,
   "id": "5afea2fc-9c87-460a-860e-b77755764bd6",
   "metadata": {},
   "outputs": [],
   "source": [
    "std_scaler = StandardScaler()\n",
    "X_train = std_scaler.fit_transform(X_train)\n",
    "X_test = std_scaler.transform(X_test)"
   ]
  },
  {
   "cell_type": "code",
   "execution_count": 86,
   "id": "f078a9f0-705f-4691-af02-29593cd5176d",
   "metadata": {},
   "outputs": [],
   "source": [
    "model = ElasticNet(alpha = 2.6)"
   ]
  },
  {
   "cell_type": "code",
   "execution_count": 90,
   "id": "ad3c2795-2e58-4105-9c04-dcd1955a59f5",
   "metadata": {},
   "outputs": [],
   "source": [
    "model2 = ElasticNet()"
   ]
  },
  {
   "cell_type": "code",
   "execution_count": 87,
   "id": "c98bf8a6-00f0-4045-abd9-88a9695543a4",
   "metadata": {},
   "outputs": [],
   "source": [
    "cv = RepeatedKFold(n_splits=6, n_repeats=3, random_state=1)\n",
    "# evaluate model\n",
    "scores = cross_val_score(model, X_train, y_train_physical, scoring='neg_root_mean_squared_error', cv=cv, n_jobs=-1)"
   ]
  },
  {
   "cell_type": "code",
   "execution_count": 88,
   "id": "42bcc311-46db-4d3f-a921-87e67ebd57c3",
   "metadata": {},
   "outputs": [
    {
     "name": "stdout",
     "output_type": "stream",
     "text": [
      "Mean RMSE: 9.394 (0.288)\n"
     ]
    }
   ],
   "source": [
    "rmse = np.absolute(scores)\n",
    "#rmse = np.sqrt(rmse)\n",
    "print('Mean RMSE: %.3f (%.3f)' % (rmse.mean(), rmse.std()))"
   ]
  },
  {
   "cell_type": "code",
   "execution_count": 89,
   "id": "61032e56-1584-4adc-9d03-ae6369731fff",
   "metadata": {},
   "outputs": [
    {
     "data": {
      "text/plain": [
       "ElasticNet(alpha=2.6)"
      ]
     },
     "execution_count": 89,
     "metadata": {},
     "output_type": "execute_result"
    }
   ],
   "source": [
    "model.fit(X_train, y_train_physical)"
   ]
  },
  {
   "cell_type": "code",
   "execution_count": 91,
   "id": "8c763dd6-e8a2-47ee-b84e-478a5cc8574c",
   "metadata": {},
   "outputs": [
    {
     "data": {
      "text/plain": [
       "ElasticNet()"
      ]
     },
     "execution_count": 91,
     "metadata": {},
     "output_type": "execute_result"
    }
   ],
   "source": [
    "model2.fit(X_train, y_train_mental)"
   ]
  },
  {
   "cell_type": "code",
   "execution_count": 92,
   "id": "97b5065e-dec6-48bb-8e09-4b2ee4e61da7",
   "metadata": {},
   "outputs": [],
   "source": [
    "pred_physical = model.predict(X_test)"
   ]
  },
  {
   "cell_type": "code",
   "execution_count": 94,
   "id": "7a7f8734-7a56-4b19-8ba7-20408f0fd204",
   "metadata": {},
   "outputs": [],
   "source": [
    "pred_mental = model2.predict(X_test)"
   ]
  },
  {
   "cell_type": "code",
   "execution_count": 95,
   "id": "e56d12f9-44a6-49ab-86b1-2876cb1bb50d",
   "metadata": {},
   "outputs": [
    {
     "name": "stderr",
     "output_type": "stream",
     "text": [
      "/home/lorenzo/anaconda3/envs/research/lib/python3.8/site-packages/seaborn/_decorators.py:36: FutureWarning: Pass the following variables as keyword args: x, y. From version 0.12, the only valid positional argument will be `data`, and passing other arguments without an explicit keyword will result in an error or misinterpretation.\n",
      "  warnings.warn(\n"
     ]
    },
    {
     "data": {
      "text/plain": [
       "<AxesSubplot:xlabel='SF12 MentalScore 6months'>"
      ]
     },
     "execution_count": 95,
     "metadata": {},
     "output_type": "execute_result"
    },
    {
     "data": {
      "image/png": "[encoded data removed]",
      "text/plain": [
       "<Figure size 432x288 with 1 Axes>"
      ]
     },
     "metadata": {
      "needs_background": "light"
     },
     "output_type": "display_data"
    }
   ],
   "source": [
    "sns.scatterplot(y_test_mental,pred_test)"
   ]
  },
  {
   "cell_type": "code",
   "execution_count": 96,
   "id": "811843b8-b5cd-49c6-9481-8593d3eaab08",
   "metadata": {},
   "outputs": [
    {
     "name": "stderr",
     "output_type": "stream",
     "text": [
      "/home/lorenzo/anaconda3/envs/research/lib/python3.8/site-packages/seaborn/_decorators.py:36: FutureWarning: Pass the following variables as keyword args: x, y. From version 0.12, the only valid positional argument will be `data`, and passing other arguments without an explicit keyword will result in an error or misinterpretation.\n",
      "  warnings.warn(\n"
     ]
    },
    {
     "data": {
      "text/plain": [
       "<AxesSubplot:xlabel='SF12 PhysicalScore 6months'>"
      ]
     },
     "execution_count": 96,
     "metadata": {},
     "output_type": "execute_result"
    },
    {
     "data": {
      "image/png": "[encoded data removed]",
      "text/plain": [
       "<Figure size 432x288 with 1 Axes>"
      ]
     },
     "metadata": {
      "needs_background": "light"
     },
     "output_type": "display_data"
    }
   ],
   "source": [
    "sns.scatterplot(y_test_physical,pred_test)"
   ]
  },
  {
   "cell_type": "markdown",
   "id": "7297489d-77e1-4633-8d9d-36f2ee16fc61",
   "metadata": {},
   "source": [
    "### filtrare gli outlier"
   ]
  },
  {
   "cell_type": "code",
   "execution_count": null,
   "id": "50c35bc9-cfbd-4fc9-83e4-ad31890e7f29",
   "metadata": {},
   "outputs": [],
   "source": []
  }
 ],
 "metadata": {
  "kernelspec": {
   "display_name": "Python 3 (ipykernel)",
   "language": "python",
   "name": "python3"
  },
  "language_info": {
   "codemirror_mode": {
    "name": "ipython",
    "version": 3
   },
   "file_extension": ".py",
   "mimetype": "text/x-python",
   "name": "python",
   "nbconvert_exporter": "python",
   "pygments_lexer": "ipython3",
   "version": "3.8.8"
  }
 },
 "nbformat": 4,
 "nbformat_minor": 5
}
